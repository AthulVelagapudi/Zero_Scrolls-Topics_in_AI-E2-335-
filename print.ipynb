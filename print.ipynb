{
 "cells": [
  {
   "cell_type": "code",
   "execution_count": 3,
   "metadata": {},
   "outputs": [
    {
     "name": "stdout",
     "output_type": "stream",
     "text": [
      "                  Model       Gov(R(1/2/L))   SumScr(R(1/2/L))  \\\n",
      "0  llama-i(3B)-chunking  49.4 / 17.2 / 22.0  30.3 / 6.4 / 15.7   \n",
      "1           llama-i(3B)  53.7 / 21.4 / 24.1  29.2 / 6.3 / 15.6   \n",
      "\n",
      "     QMSum(R(1/2/L)) Qasper(F1) NarQA(F1) Qual(EM)        Avg  \n",
      "0  28.2 / 6.5 / 18.0       10.6       5.9     33.3  26.283333  \n",
      "1  34.1 / 8.7 / 20.6       14.8      22.3     38.1  32.033333  \n"
     ]
    }
   ],
   "source": [
    "import os\n",
    "import json\n",
    "import pandas as pd\n",
    "\n",
    "# Define the base directory where results are stored\n",
    "base_dir = \"Evaluation_results\"\n",
    "\n",
    "short_model_names = {\n",
    "    \"MBZUAI_LaMini_GPT_1.5B\": \"LaMini\", \n",
    "    \"Qwen_Qwen2.5_1.5B_Instruct\": \"Qwen\",\n",
    "      \"instruction_pretrain_InstructLM_1.3B\": \"InstructLM\",\n",
    "    \"nvidia_AceInstruct_1.5B\": \"AceInst\", \n",
    "    \"meta-llama-3.2-instruct-3b-chunking\": \"llama-i(3B)-chunking\",\n",
    "    \"meta-llama-3.2-instruct-3b\": \"llama-i(3B)\"\n",
    "    }\n",
    "\n",
    "# print(short_model_names.keys())\n",
    "# List to store extracted data\n",
    "data = []\n",
    "\n",
    "# Iterate over all model directories\n",
    "for model_name in os.listdir(base_dir):\n",
    "    model_path = os.path.join(base_dir, model_name)\n",
    "    result_file = os.path.join(model_path, \"results.json\")\n",
    "    # print(model_name)\n",
    "\n",
    "    if os.path.isdir(model_path) and os.path.exists(result_file):\n",
    "        with open(result_file, \"r\") as f:\n",
    "            results = json.load(f)\n",
    "\n",
    "            # Extract metrics and ensure all datasets have same format\n",
    "            row = {\"Model\": short_model_names.get(model_name, model_name)}\n",
    "\n",
    "            for dataset in [\"gov_report\", \"summ_screen_fd\", \"qmsum\", \"qasper\", \"narrative_qa\", \"quality\"]:\n",
    "                metrics = results.get(dataset, {})\n",
    "\n",
    "                if \"Rouge1\" in metrics:\n",
    "                    row[f\"{dataset}\"] = f\"{metrics.get('Rouge1', 0) * 100:.1f} / {metrics.get('Rouge2', 0) * 100:.1f} / {metrics.get('RougeL', 0) * 100:.1f}\"\n",
    "                elif \"f1_score\" in metrics:\n",
    "                    row[f\"{dataset}\"] = f\"{metrics.get('f1_score', 0) * 100:.1f}\"\n",
    "                elif \"EM_score\" in metrics:\n",
    "                    row[f\"{dataset}\"] = f\"{metrics.get('EM_score', 0) * 100:.1f}\"\n",
    "                else:\n",
    "                    row[f\"{dataset}\"] = \"N/A\"\n",
    "\n",
    "            data.append(row)\n",
    "\n",
    "# Convert to Pandas DataFrame\n",
    "df = pd.DataFrame(data)\n",
    "\n",
    "# Rename columns for better readability\n",
    "df.rename(columns={\n",
    "    \"gov_report\": \"Gov(R(1/2/L))\",\n",
    "    \"summ_screen_fd\": \"SumScr(R(1/2/L))\",\n",
    "    \"qmsum\": \"QMSum(R(1/2/L))\",\n",
    "    \"qasper\": \"Qasper(F1)\",\n",
    "    \"narrative_qa\": \"NarQA(F1)\",\n",
    "    \"quality\": \"Qual(EM)\"\n",
    "}, inplace=True)\n",
    "\n",
    "df[\"Avg\"] = df.iloc[:, 1:].apply(lambda row: sum([float(x.split(\n",
    "    '/')[0]) if '/' in x else float(x) for x in row if x != \"N/A\"]) / len(row), axis=1)\n",
    "\n",
    "# Print the table\n",
    "print(df)"
   ]
  },
  {
   "cell_type": "code",
   "execution_count": null,
   "metadata": {},
   "outputs": [],
   "source": []
  },
  {
   "cell_type": "code",
   "execution_count": null,
   "metadata": {},
   "outputs": [],
   "source": []
  }
 ],
 "metadata": {
  "kernelspec": {
   "display_name": "zeroscrolls",
   "language": "python",
   "name": "python3"
  },
  "language_info": {
   "codemirror_mode": {
    "name": "ipython",
    "version": 3
   },
   "file_extension": ".py",
   "mimetype": "text/x-python",
   "name": "python",
   "nbconvert_exporter": "python",
   "pygments_lexer": "ipython3",
   "version": "3.13.3"
  }
 },
 "nbformat": 4,
 "nbformat_minor": 2
}
